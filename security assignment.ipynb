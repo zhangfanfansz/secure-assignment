{
 "cells": [
  {
   "cell_type": "code",
   "execution_count": 1,
   "metadata": {},
   "outputs": [],
   "source": [
    "import numpy as np\n",
    "import pandas as pd\n",
    "import os\n",
    "\n",
    "# Specify git executable file for GitPython in Jupyter Notebook (In IDE, it can still work without this line.)\n",
    "os.environ[\"GIT_PYTHON_GIT_EXECUTABLE\"] = \"C:\\Program Files\\Git\\cmd\\git.exe\"\n",
    "\n",
    "import git\n",
    "from git import RemoteProgress\n",
    "\n",
    "from git import Repo\n",
    "import matplotlib.pyplot as plt\n",
    "import seaborn as sns\n",
    "%matplotlib inline"
   ]
  },
  {
   "cell_type": "code",
   "execution_count": 2,
   "metadata": {},
   "outputs": [],
   "source": [
    "class Progress(RemoteProgress):\n",
    "    def update(self, op_code, cur_count, max_count=None, message=''):\n",
    "        print(self._cur_line)"
   ]
  },
  {
   "cell_type": "code",
   "execution_count": 5,
   "metadata": {},
   "outputs": [
    {
     "ename": "GitCommandError",
     "evalue": "Cmd('C:\\Program Files\\Git\\cmd\\git.exe') failed due to: exit code(128)\n  cmdline: C:\\Program Files\\Git\\cmd\\git.exe clone --progress -v https://github.com/apache/groovy groovy",
     "output_type": "error",
     "traceback": [
      "\u001b[1;31m---------------------------------------------------------------------------\u001b[0m",
      "\u001b[1;31mGitCommandError\u001b[0m                           Traceback (most recent call last)",
      "\u001b[1;32m<ipython-input-5-e167baba6516>\u001b[0m in \u001b[0;36m<module>\u001b[1;34m\u001b[0m\n\u001b[0;32m      2\u001b[0m \u001b[0mlocal_link\u001b[0m \u001b[1;33m=\u001b[0m \u001b[1;34m\"groovy\"\u001b[0m\u001b[1;33m\u001b[0m\u001b[1;33m\u001b[0m\u001b[0m\n\u001b[0;32m      3\u001b[0m \u001b[1;31m# Uncomment to clone\u001b[0m\u001b[1;33m\u001b[0m\u001b[1;33m\u001b[0m\u001b[1;33m\u001b[0m\u001b[0m\n\u001b[1;32m----> 4\u001b[1;33m \u001b[0mRepo\u001b[0m\u001b[1;33m.\u001b[0m\u001b[0mclone_from\u001b[0m\u001b[1;33m(\u001b[0m\u001b[0mremote_link\u001b[0m\u001b[1;33m,\u001b[0m \u001b[0mlocal_link\u001b[0m\u001b[1;33m,\u001b[0m \u001b[0mprogress\u001b[0m\u001b[1;33m=\u001b[0m\u001b[0mProgress\u001b[0m\u001b[1;33m(\u001b[0m\u001b[1;33m)\u001b[0m\u001b[1;33m)\u001b[0m\u001b[1;33m\u001b[0m\u001b[1;33m\u001b[0m\u001b[0m\n\u001b[0m",
      "\u001b[1;32mc:\\users\\zhang\\desktop\\security\\venv\\lib\\site-packages\\git\\repo\\base.py\u001b[0m in \u001b[0;36mclone_from\u001b[1;34m(cls, url, to_path, progress, env, multi_options, **kwargs)\u001b[0m\n\u001b[0;32m   1017\u001b[0m         \u001b[1;32mif\u001b[0m \u001b[0menv\u001b[0m \u001b[1;32mis\u001b[0m \u001b[1;32mnot\u001b[0m \u001b[1;32mNone\u001b[0m\u001b[1;33m:\u001b[0m\u001b[1;33m\u001b[0m\u001b[1;33m\u001b[0m\u001b[0m\n\u001b[0;32m   1018\u001b[0m             \u001b[0mgit\u001b[0m\u001b[1;33m.\u001b[0m\u001b[0mupdate_environment\u001b[0m\u001b[1;33m(\u001b[0m\u001b[1;33m**\u001b[0m\u001b[0menv\u001b[0m\u001b[1;33m)\u001b[0m\u001b[1;33m\u001b[0m\u001b[1;33m\u001b[0m\u001b[0m\n\u001b[1;32m-> 1019\u001b[1;33m         \u001b[1;32mreturn\u001b[0m \u001b[0mcls\u001b[0m\u001b[1;33m.\u001b[0m\u001b[0m_clone\u001b[0m\u001b[1;33m(\u001b[0m\u001b[0mgit\u001b[0m\u001b[1;33m,\u001b[0m \u001b[0murl\u001b[0m\u001b[1;33m,\u001b[0m \u001b[0mto_path\u001b[0m\u001b[1;33m,\u001b[0m \u001b[0mGitCmdObjectDB\u001b[0m\u001b[1;33m,\u001b[0m \u001b[0mprogress\u001b[0m\u001b[1;33m,\u001b[0m \u001b[0mmulti_options\u001b[0m\u001b[1;33m,\u001b[0m \u001b[1;33m**\u001b[0m\u001b[0mkwargs\u001b[0m\u001b[1;33m)\u001b[0m\u001b[1;33m\u001b[0m\u001b[1;33m\u001b[0m\u001b[0m\n\u001b[0m\u001b[0;32m   1020\u001b[0m \u001b[1;33m\u001b[0m\u001b[0m\n\u001b[0;32m   1021\u001b[0m     \u001b[1;32mdef\u001b[0m \u001b[0marchive\u001b[0m\u001b[1;33m(\u001b[0m\u001b[0mself\u001b[0m\u001b[1;33m,\u001b[0m \u001b[0mostream\u001b[0m\u001b[1;33m,\u001b[0m \u001b[0mtreeish\u001b[0m\u001b[1;33m=\u001b[0m\u001b[1;32mNone\u001b[0m\u001b[1;33m,\u001b[0m \u001b[0mprefix\u001b[0m\u001b[1;33m=\u001b[0m\u001b[1;32mNone\u001b[0m\u001b[1;33m,\u001b[0m \u001b[1;33m**\u001b[0m\u001b[0mkwargs\u001b[0m\u001b[1;33m)\u001b[0m\u001b[1;33m:\u001b[0m\u001b[1;33m\u001b[0m\u001b[1;33m\u001b[0m\u001b[0m\n",
      "\u001b[1;32mc:\\users\\zhang\\desktop\\security\\venv\\lib\\site-packages\\git\\repo\\base.py\u001b[0m in \u001b[0;36m_clone\u001b[1;34m(cls, git, url, path, odb_default_type, progress, multi_options, **kwargs)\u001b[0m\n\u001b[0;32m    954\u001b[0m                          v=True, universal_newlines=True, **add_progress(kwargs, git, progress))\n\u001b[0;32m    955\u001b[0m         \u001b[1;32mif\u001b[0m \u001b[0mprogress\u001b[0m\u001b[1;33m:\u001b[0m\u001b[1;33m\u001b[0m\u001b[1;33m\u001b[0m\u001b[0m\n\u001b[1;32m--> 956\u001b[1;33m             \u001b[0mhandle_process_output\u001b[0m\u001b[1;33m(\u001b[0m\u001b[0mproc\u001b[0m\u001b[1;33m,\u001b[0m \u001b[1;32mNone\u001b[0m\u001b[1;33m,\u001b[0m \u001b[0mprogress\u001b[0m\u001b[1;33m.\u001b[0m\u001b[0mnew_message_handler\u001b[0m\u001b[1;33m(\u001b[0m\u001b[1;33m)\u001b[0m\u001b[1;33m,\u001b[0m \u001b[0mfinalize_process\u001b[0m\u001b[1;33m,\u001b[0m \u001b[0mdecode_streams\u001b[0m\u001b[1;33m=\u001b[0m\u001b[1;32mFalse\u001b[0m\u001b[1;33m)\u001b[0m\u001b[1;33m\u001b[0m\u001b[1;33m\u001b[0m\u001b[0m\n\u001b[0m\u001b[0;32m    957\u001b[0m         \u001b[1;32melse\u001b[0m\u001b[1;33m:\u001b[0m\u001b[1;33m\u001b[0m\u001b[1;33m\u001b[0m\u001b[0m\n\u001b[0;32m    958\u001b[0m             \u001b[1;33m(\u001b[0m\u001b[0mstdout\u001b[0m\u001b[1;33m,\u001b[0m \u001b[0mstderr\u001b[0m\u001b[1;33m)\u001b[0m \u001b[1;33m=\u001b[0m \u001b[0mproc\u001b[0m\u001b[1;33m.\u001b[0m\u001b[0mcommunicate\u001b[0m\u001b[1;33m(\u001b[0m\u001b[1;33m)\u001b[0m\u001b[1;33m\u001b[0m\u001b[1;33m\u001b[0m\u001b[0m\n",
      "\u001b[1;32mc:\\users\\zhang\\desktop\\security\\venv\\lib\\site-packages\\git\\cmd.py\u001b[0m in \u001b[0;36mhandle_process_output\u001b[1;34m(process, stdout_handler, stderr_handler, finalizer, decode_streams)\u001b[0m\n\u001b[0;32m    113\u001b[0m \u001b[1;33m\u001b[0m\u001b[0m\n\u001b[0;32m    114\u001b[0m     \u001b[1;32mif\u001b[0m \u001b[0mfinalizer\u001b[0m\u001b[1;33m:\u001b[0m\u001b[1;33m\u001b[0m\u001b[1;33m\u001b[0m\u001b[0m\n\u001b[1;32m--> 115\u001b[1;33m         \u001b[1;32mreturn\u001b[0m \u001b[0mfinalizer\u001b[0m\u001b[1;33m(\u001b[0m\u001b[0mprocess\u001b[0m\u001b[1;33m)\u001b[0m\u001b[1;33m\u001b[0m\u001b[1;33m\u001b[0m\u001b[0m\n\u001b[0m\u001b[0;32m    116\u001b[0m \u001b[1;33m\u001b[0m\u001b[0m\n\u001b[0;32m    117\u001b[0m \u001b[1;33m\u001b[0m\u001b[0m\n",
      "\u001b[1;32mc:\\users\\zhang\\desktop\\security\\venv\\lib\\site-packages\\git\\util.py\u001b[0m in \u001b[0;36mfinalize_process\u001b[1;34m(proc, **kwargs)\u001b[0m\n\u001b[0;32m    327\u001b[0m     \u001b[1;34m\"\"\"Wait for the process (clone, fetch, pull or push) and handle its errors accordingly\"\"\"\u001b[0m\u001b[1;33m\u001b[0m\u001b[1;33m\u001b[0m\u001b[0m\n\u001b[0;32m    328\u001b[0m     \u001b[1;31m## TODO: No close proc-streams??\u001b[0m\u001b[1;33m\u001b[0m\u001b[1;33m\u001b[0m\u001b[1;33m\u001b[0m\u001b[0m\n\u001b[1;32m--> 329\u001b[1;33m     \u001b[0mproc\u001b[0m\u001b[1;33m.\u001b[0m\u001b[0mwait\u001b[0m\u001b[1;33m(\u001b[0m\u001b[1;33m**\u001b[0m\u001b[0mkwargs\u001b[0m\u001b[1;33m)\u001b[0m\u001b[1;33m\u001b[0m\u001b[1;33m\u001b[0m\u001b[0m\n\u001b[0m\u001b[0;32m    330\u001b[0m \u001b[1;33m\u001b[0m\u001b[0m\n\u001b[0;32m    331\u001b[0m \u001b[1;33m\u001b[0m\u001b[0m\n",
      "\u001b[1;32mc:\\users\\zhang\\desktop\\security\\venv\\lib\\site-packages\\git\\cmd.py\u001b[0m in \u001b[0;36mwait\u001b[1;34m(self, stderr)\u001b[0m\n\u001b[0;32m    406\u001b[0m                 \u001b[0merrstr\u001b[0m \u001b[1;33m=\u001b[0m \u001b[0mread_all_from_possibly_closed_stream\u001b[0m\u001b[1;33m(\u001b[0m\u001b[0mself\u001b[0m\u001b[1;33m.\u001b[0m\u001b[0mproc\u001b[0m\u001b[1;33m.\u001b[0m\u001b[0mstderr\u001b[0m\u001b[1;33m)\u001b[0m\u001b[1;33m\u001b[0m\u001b[1;33m\u001b[0m\u001b[0m\n\u001b[0;32m    407\u001b[0m                 \u001b[0mlog\u001b[0m\u001b[1;33m.\u001b[0m\u001b[0mdebug\u001b[0m\u001b[1;33m(\u001b[0m\u001b[1;34m'AutoInterrupt wait stderr: %r'\u001b[0m \u001b[1;33m%\u001b[0m \u001b[1;33m(\u001b[0m\u001b[0merrstr\u001b[0m\u001b[1;33m,\u001b[0m\u001b[1;33m)\u001b[0m\u001b[1;33m)\u001b[0m\u001b[1;33m\u001b[0m\u001b[1;33m\u001b[0m\u001b[0m\n\u001b[1;32m--> 408\u001b[1;33m                 \u001b[1;32mraise\u001b[0m \u001b[0mGitCommandError\u001b[0m\u001b[1;33m(\u001b[0m\u001b[0mself\u001b[0m\u001b[1;33m.\u001b[0m\u001b[0margs\u001b[0m\u001b[1;33m,\u001b[0m \u001b[0mstatus\u001b[0m\u001b[1;33m,\u001b[0m \u001b[0merrstr\u001b[0m\u001b[1;33m)\u001b[0m\u001b[1;33m\u001b[0m\u001b[1;33m\u001b[0m\u001b[0m\n\u001b[0m\u001b[0;32m    409\u001b[0m             \u001b[1;31m# END status handling\u001b[0m\u001b[1;33m\u001b[0m\u001b[1;33m\u001b[0m\u001b[1;33m\u001b[0m\u001b[0m\n\u001b[0;32m    410\u001b[0m             \u001b[1;32mreturn\u001b[0m \u001b[0mstatus\u001b[0m\u001b[1;33m\u001b[0m\u001b[1;33m\u001b[0m\u001b[0m\n",
      "\u001b[1;31mGitCommandError\u001b[0m: Cmd('C:\\Program Files\\Git\\cmd\\git.exe') failed due to: exit code(128)\n  cmdline: C:\\Program Files\\Git\\cmd\\git.exe clone --progress -v https://github.com/apache/groovy groovy"
     ]
    }
   ],
   "source": [
    "remote_link = \"https://github.com/apache/groovy\"\n",
    "local_link = \"groovy\"\n",
    "# Uncomment to clone\n",
    "Repo.clone_from(remote_link, local_link, progress=Progress())"
   ]
  },
  {
   "cell_type": "code",
   "execution_count": 6,
   "metadata": {},
   "outputs": [],
   "source": [
    "repo = Repo(local_link)\n",
    "fixing_commit = \"4df8b652aa018a5d5d1cda8fba938bf3422db31c\"\n",
    "affected_file = \"src/main/org/codehaus/groovy/runtime/MethodClosure.java\"\n",
    "vulnerability_contribution_commit=\"4a96e70f6315d3b28fc6f878e4d59dfba585a179\""
   ]
  },
  {
   "cell_type": "code",
   "execution_count": 7,
   "metadata": {},
   "outputs": [
    {
     "name": "stdout",
     "output_type": "stream",
     "text": [
      "commit 4a96e70f6315d3b28fc6f878e4d59dfba585a179\n",
      "Author: Cedric Champeau <cchampeau@apache.org>\n",
      "Date:   Thu Jul 9 20:12:51 2015 +0200\n",
      "\n",
      "    Fix potential problem when deserializing\n"
     ]
    }
   ],
   "source": [
    "# find out the message and title of the VCC\n",
    "show_data = repo.git.show(\"-s\", vulnerability_contribution_commit).splitlines()\n",
    "for line in show_data:\n",
    "        print(line)"
   ]
  },
  {
   "cell_type": "code",
   "execution_count": 8,
   "metadata": {},
   "outputs": [
    {
     "name": "stdout",
     "output_type": "stream",
     "text": [
      "commit 4a96e70f6315d3b28fc6f878e4d59dfba585a179\n",
      "Author: Cedric Champeau <cchampeau@apache.org>\n",
      "Date:   Thu Jul 9 20:12:51 2015 +0200\n",
      "\n",
      "    Fix potential problem when deserializing\n",
      "\n",
      " src/main/org/codehaus/groovy/runtime/MethodClosure.java | 11 ++++++++++-\n",
      " 1 file changed, 10 insertions(+), 1 deletion(-)\n",
      "['', '1', 'file', 'changed,', '10', 'insertions(+),', '1', 'deletion(-)']\n",
      "The number of files were affected in the current VCC: 1\n",
      "The added lines include comments and blank lines: 10\n",
      "The deleted lines include comments and blank lines: 1\n"
     ]
    }
   ],
   "source": [
    "# find out how many files have been affected\n",
    "show_data = repo.git.show(\"--compact-summary\", vulnerability_contribution_commit).splitlines()\n",
    "for line in show_data:\n",
    "        print(line)\n",
    "#separate output by space\n",
    "whiteSpaceRegex = \" \";\n",
    "words = line.split(\" \");\n",
    "print(words)\n",
    "temp=\"\"\n",
    "for word in words:\n",
    "\n",
    "    if \"file\" in word:\n",
    "        print(\"The number of files were affected in the current VCC: \"+temp)  \n",
    "    elif \"insertions(+)\" in word:\n",
    "        print(\"The added lines include comments and blank lines: \"+temp)    \n",
    "    elif \"deletion(-)\" in word:\n",
    "        print(\"The deleted lines include comments and blank lines: \"+temp)    \n",
    "    \n",
    "    temp=word"
   ]
  },
  {
   "cell_type": "code",
   "execution_count": null,
   "metadata": {},
   "outputs": [],
   "source": [
    "# find out how many directories have been affected\n",
    "show_data = repo.git.show(\"--dirstat\", vulnerability_contribution_commit).splitlines()\n",
    "number=0\n",
    "for line in show_data:\n",
    "    if line.endswith('/'):\n",
    "        number += 1\n",
    "        print(line)\n",
    "print(number)"
   ]
  },
  {
   "cell_type": "code",
   "execution_count": 21,
   "metadata": {},
   "outputs": [
    {
     "name": "stdout",
     "output_type": "stream",
     "text": [
      "commit 4a96e70f6315d3b28fc6f878e4d59dfba585a179\n",
      "Author: Cedric Champeau <cchampeau@apache.org>\n",
      "Date:   Thu Jul 9 20:12:51 2015 +0200\n",
      "\n",
      "    Fix potential problem when deserializing\n",
      "\n",
      " src/main/org/codehaus/groovy/runtime/MethodClosure.java | 9 +++++++++\n",
      " 1 file changed, 9 insertions(+)\n",
      "['', '1', 'file', 'changed,', '9', 'insertions(+)']\n",
      "The number of files were affected in the current VCC: 1\n",
      "The added lines exclude comments and blank lines: 9\n"
     ]
    }
   ],
   "source": [
    "# find out how many lines have been affected exclude comments and blank lines\n",
    "show_data = repo.git.show(\"-w\",\"--compact-summary\", vulnerability_contribution_commit).splitlines()\n",
    "for line in show_data:\n",
    "        print(line)\n",
    "#separate output by space\n",
    "whiteSpaceRegex = \" \";\n",
    "words = line.split(\" \");\n",
    "print(words)\n",
    "temp=\"\"\n",
    "for word in words:\n",
    "\n",
    "    if \"file\" in word:\n",
    "        print(\"The number of files were affected in the current VCC: \"+temp)  \n",
    "    elif \"insertions(+)\" in word:\n",
    "        print(\"The added lines exclude comments and blank lines: \"+temp)    \n",
    "    elif \"deletion(-)\" in word:\n",
    "        print(\"The deleted lines exclude comments and blank lines: \"+temp)    \n",
    "    \n",
    "    temp=word"
   ]
  },
  {
   "cell_type": "code",
   "execution_count": 20,
   "metadata": {},
   "outputs": [
    {
     "name": "stdout",
     "output_type": "stream",
     "text": [
      "'2015-06-01 20:01:15 +0200'\n",
      "['2015', '06', '01']\n",
      "'2015-07-09 20:13:35 +0200'\n",
      "['2015', '07', '09']\n",
      "The number of days between the two commits is:  38\n"
     ]
    }
   ],
   "source": [
    "#calculate the days between two ocommits\n",
    "from datetime import date\n",
    "previous_commit = \"781994243c33ff5016622e56aea589886eb25adb\"\n",
    "show_data1 = repo.git.log(\"--pretty=format:'%ci'\",\"-1\", previous_commit).splitlines()\n",
    "for line in show_data1:\n",
    "        print(line)\n",
    "words = line.split(\" \");\n",
    "date1=words[0].lstrip(\"'\")\n",
    "\n",
    "time1 = date1.split(\"-\");\n",
    "print(time1)\n",
    "year1=int(time1[0])\n",
    "month1=int(time1[1].lstrip(\"0\"))\n",
    "day1=int(time1[2].lstrip(\"0\"))\n",
    "\n",
    "show_data2 = repo.git.log(\"--pretty=format:'%ci'\",\"-1\", vulnerability_contribution_commit).splitlines() \n",
    "for line in show_data2:\n",
    "        print(line)\n",
    "words = line.split(\" \");\n",
    "date2=words[0].lstrip(\"'\")\n",
    "time2 = date2.split(\"-\");\n",
    "print(time2)\n",
    "year2=int(time2[0])\n",
    "month2=int(time2[1].lstrip(\"0\"))\n",
    "day2=int(time2[2].lstrip(\"0\"))\n",
    "\n",
    "    \n",
    "#calculate the days between the two commits\n",
    "f_date = date(year1, month1, day1)\n",
    "l_date = date(year2, month2, day2)\n",
    "delta = l_date - f_date\n",
    "print(\"The number of days between the two commits is: \",delta.days)\n"
   ]
  },
  {
   "cell_type": "code",
   "execution_count": null,
   "metadata": {},
   "outputs": [],
   "source": []
  }
 ],
 "metadata": {
  "kernelspec": {
   "display_name": "Python 3",
   "language": "python",
   "name": "python3"
  },
  "language_info": {
   "codemirror_mode": {
    "name": "ipython",
    "version": 3
   },
   "file_extension": ".py",
   "mimetype": "text/x-python",
   "name": "python",
   "nbconvert_exporter": "python",
   "pygments_lexer": "ipython3",
   "version": "3.7.8"
  }
 },
 "nbformat": 4,
 "nbformat_minor": 4
}
